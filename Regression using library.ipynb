{
 "cells": [
  {
   "cell_type": "code",
   "execution_count": 1,
   "metadata": {},
   "outputs": [
    {
     "name": "stdout",
     "output_type": "stream",
     "text": [
      "modules imported\n"
     ]
    }
   ],
   "source": [
    "import pandas as pd\n",
    "import numpy as np\n",
    "from sklearn import linear_model\n",
    "print('modules imported')"
   ]
  },
  {
   "cell_type": "markdown",
   "metadata": {},
   "source": [
    "## Dataset"
   ]
  },
  {
   "cell_type": "code",
   "execution_count": 2,
   "metadata": {},
   "outputs": [
    {
     "data": {
      "text/html": [
       "<div>\n",
       "<style scoped>\n",
       "    .dataframe tbody tr th:only-of-type {\n",
       "        vertical-align: middle;\n",
       "    }\n",
       "\n",
       "    .dataframe tbody tr th {\n",
       "        vertical-align: top;\n",
       "    }\n",
       "\n",
       "    .dataframe thead th {\n",
       "        text-align: right;\n",
       "    }\n",
       "</style>\n",
       "<table border=\"1\" class=\"dataframe\">\n",
       "  <thead>\n",
       "    <tr style=\"text-align: right;\">\n",
       "      <th></th>\n",
       "      <th>id</th>\n",
       "      <th>date</th>\n",
       "      <th>price</th>\n",
       "      <th>bedrooms</th>\n",
       "      <th>bathrooms</th>\n",
       "      <th>sqft_living</th>\n",
       "      <th>sqft_lot</th>\n",
       "      <th>floors</th>\n",
       "      <th>waterfront</th>\n",
       "      <th>view</th>\n",
       "      <th>...</th>\n",
       "      <th>grade</th>\n",
       "      <th>sqft_above</th>\n",
       "      <th>sqft_basement</th>\n",
       "      <th>yr_built</th>\n",
       "      <th>yr_renovated</th>\n",
       "      <th>zipcode</th>\n",
       "      <th>lat</th>\n",
       "      <th>long</th>\n",
       "      <th>sqft_living15</th>\n",
       "      <th>sqft_lot15</th>\n",
       "    </tr>\n",
       "  </thead>\n",
       "  <tbody>\n",
       "    <tr>\n",
       "      <td>0</td>\n",
       "      <td>2487200875</td>\n",
       "      <td>20141209T000000</td>\n",
       "      <td>604000.0</td>\n",
       "      <td>4</td>\n",
       "      <td>3.00</td>\n",
       "      <td>1960</td>\n",
       "      <td>5000</td>\n",
       "      <td>1.0</td>\n",
       "      <td>0</td>\n",
       "      <td>0</td>\n",
       "      <td>...</td>\n",
       "      <td>7</td>\n",
       "      <td>1050</td>\n",
       "      <td>910</td>\n",
       "      <td>1965</td>\n",
       "      <td>0</td>\n",
       "      <td>98136</td>\n",
       "      <td>47.5208</td>\n",
       "      <td>-122.393</td>\n",
       "      <td>1360</td>\n",
       "      <td>5000</td>\n",
       "    </tr>\n",
       "    <tr>\n",
       "      <td>1</td>\n",
       "      <td>7237550310</td>\n",
       "      <td>20140512T000000</td>\n",
       "      <td>1225000.0</td>\n",
       "      <td>4</td>\n",
       "      <td>4.50</td>\n",
       "      <td>5420</td>\n",
       "      <td>101930</td>\n",
       "      <td>1.0</td>\n",
       "      <td>0</td>\n",
       "      <td>0</td>\n",
       "      <td>...</td>\n",
       "      <td>11</td>\n",
       "      <td>3890</td>\n",
       "      <td>1530</td>\n",
       "      <td>2001</td>\n",
       "      <td>0</td>\n",
       "      <td>98053</td>\n",
       "      <td>47.6561</td>\n",
       "      <td>-122.005</td>\n",
       "      <td>4760</td>\n",
       "      <td>101930</td>\n",
       "    </tr>\n",
       "    <tr>\n",
       "      <td>2</td>\n",
       "      <td>9212900260</td>\n",
       "      <td>20140527T000000</td>\n",
       "      <td>468000.0</td>\n",
       "      <td>2</td>\n",
       "      <td>1.00</td>\n",
       "      <td>1160</td>\n",
       "      <td>6000</td>\n",
       "      <td>1.0</td>\n",
       "      <td>0</td>\n",
       "      <td>0</td>\n",
       "      <td>...</td>\n",
       "      <td>7</td>\n",
       "      <td>860</td>\n",
       "      <td>300</td>\n",
       "      <td>1942</td>\n",
       "      <td>0</td>\n",
       "      <td>98115</td>\n",
       "      <td>47.6900</td>\n",
       "      <td>-122.292</td>\n",
       "      <td>1330</td>\n",
       "      <td>6000</td>\n",
       "    </tr>\n",
       "    <tr>\n",
       "      <td>3</td>\n",
       "      <td>114101516</td>\n",
       "      <td>20140528T000000</td>\n",
       "      <td>310000.0</td>\n",
       "      <td>3</td>\n",
       "      <td>1.00</td>\n",
       "      <td>1430</td>\n",
       "      <td>19901</td>\n",
       "      <td>1.5</td>\n",
       "      <td>0</td>\n",
       "      <td>0</td>\n",
       "      <td>...</td>\n",
       "      <td>7</td>\n",
       "      <td>1430</td>\n",
       "      <td>0</td>\n",
       "      <td>1927</td>\n",
       "      <td>0</td>\n",
       "      <td>98028</td>\n",
       "      <td>47.7558</td>\n",
       "      <td>-122.229</td>\n",
       "      <td>1780</td>\n",
       "      <td>12697</td>\n",
       "    </tr>\n",
       "    <tr>\n",
       "      <td>4</td>\n",
       "      <td>6054650070</td>\n",
       "      <td>20141007T000000</td>\n",
       "      <td>400000.0</td>\n",
       "      <td>3</td>\n",
       "      <td>1.75</td>\n",
       "      <td>1370</td>\n",
       "      <td>9680</td>\n",
       "      <td>1.0</td>\n",
       "      <td>0</td>\n",
       "      <td>0</td>\n",
       "      <td>...</td>\n",
       "      <td>7</td>\n",
       "      <td>1370</td>\n",
       "      <td>0</td>\n",
       "      <td>1977</td>\n",
       "      <td>0</td>\n",
       "      <td>98074</td>\n",
       "      <td>47.6127</td>\n",
       "      <td>-122.045</td>\n",
       "      <td>1370</td>\n",
       "      <td>10208</td>\n",
       "    </tr>\n",
       "  </tbody>\n",
       "</table>\n",
       "<p>5 rows × 21 columns</p>\n",
       "</div>"
      ],
      "text/plain": [
       "           id             date      price  bedrooms  bathrooms  sqft_living  \\\n",
       "0  2487200875  20141209T000000   604000.0         4       3.00         1960   \n",
       "1  7237550310  20140512T000000  1225000.0         4       4.50         5420   \n",
       "2  9212900260  20140527T000000   468000.0         2       1.00         1160   \n",
       "3   114101516  20140528T000000   310000.0         3       1.00         1430   \n",
       "4  6054650070  20141007T000000   400000.0         3       1.75         1370   \n",
       "\n",
       "   sqft_lot  floors  waterfront  view  ...  grade  sqft_above  sqft_basement  \\\n",
       "0      5000     1.0           0     0  ...      7        1050            910   \n",
       "1    101930     1.0           0     0  ...     11        3890           1530   \n",
       "2      6000     1.0           0     0  ...      7         860            300   \n",
       "3     19901     1.5           0     0  ...      7        1430              0   \n",
       "4      9680     1.0           0     0  ...      7        1370              0   \n",
       "\n",
       "   yr_built  yr_renovated  zipcode      lat     long  sqft_living15  \\\n",
       "0      1965             0    98136  47.5208 -122.393           1360   \n",
       "1      2001             0    98053  47.6561 -122.005           4760   \n",
       "2      1942             0    98115  47.6900 -122.292           1330   \n",
       "3      1927             0    98028  47.7558 -122.229           1780   \n",
       "4      1977             0    98074  47.6127 -122.045           1370   \n",
       "\n",
       "   sqft_lot15  \n",
       "0        5000  \n",
       "1      101930  \n",
       "2        6000  \n",
       "3       12697  \n",
       "4       10208  \n",
       "\n",
       "[5 rows x 21 columns]"
      ]
     },
     "execution_count": 2,
     "metadata": {},
     "output_type": "execute_result"
    }
   ],
   "source": [
    "train=pd.read_csv(r'linear reg/wk3_kc_house_train_data.csv')\n",
    "valid=pd.read_csv(r'linear reg/wk3_kc_house_valid_data.csv')\n",
    "test=pd.read_csv(r'linear reg/wk3_kc_house_test_data.csv')\n",
    "train.head()"
   ]
  },
  {
   "cell_type": "code",
   "execution_count": 3,
   "metadata": {
    "scrolled": true
   },
   "outputs": [
    {
     "name": "stdout",
     "output_type": "stream",
     "text": [
      "Train, valid and test sizes are\n",
      "(9761, 21) (9635, 21) (2217, 21)\n"
     ]
    }
   ],
   "source": [
    "print(\"Train, valid and test sizes are\")\n",
    "print(train.shape,valid.shape,test.shape)"
   ]
  },
  {
   "cell_type": "code",
   "execution_count": 4,
   "metadata": {},
   "outputs": [
    {
     "data": {
      "text/html": [
       "<div>\n",
       "<style scoped>\n",
       "    .dataframe tbody tr th:only-of-type {\n",
       "        vertical-align: middle;\n",
       "    }\n",
       "\n",
       "    .dataframe tbody tr th {\n",
       "        vertical-align: top;\n",
       "    }\n",
       "\n",
       "    .dataframe thead th {\n",
       "        text-align: right;\n",
       "    }\n",
       "</style>\n",
       "<table border=\"1\" class=\"dataframe\">\n",
       "  <thead>\n",
       "    <tr style=\"text-align: right;\">\n",
       "      <th></th>\n",
       "      <th>id</th>\n",
       "      <th>price</th>\n",
       "      <th>bedrooms</th>\n",
       "      <th>bathrooms</th>\n",
       "      <th>sqft_living</th>\n",
       "      <th>sqft_lot</th>\n",
       "      <th>floors</th>\n",
       "      <th>waterfront</th>\n",
       "      <th>view</th>\n",
       "      <th>condition</th>\n",
       "      <th>grade</th>\n",
       "      <th>sqft_above</th>\n",
       "      <th>sqft_basement</th>\n",
       "      <th>yr_built</th>\n",
       "      <th>yr_renovated</th>\n",
       "      <th>zipcode</th>\n",
       "      <th>lat</th>\n",
       "      <th>long</th>\n",
       "      <th>sqft_living15</th>\n",
       "      <th>sqft_lot15</th>\n",
       "    </tr>\n",
       "  </thead>\n",
       "  <tbody>\n",
       "    <tr>\n",
       "      <td>count</td>\n",
       "      <td>9.761000e+03</td>\n",
       "      <td>9.761000e+03</td>\n",
       "      <td>9761.000000</td>\n",
       "      <td>9761.000000</td>\n",
       "      <td>9761.000000</td>\n",
       "      <td>9.761000e+03</td>\n",
       "      <td>9761.000000</td>\n",
       "      <td>9761.000000</td>\n",
       "      <td>9761.000000</td>\n",
       "      <td>9761.000000</td>\n",
       "      <td>9761.00000</td>\n",
       "      <td>9761.000000</td>\n",
       "      <td>9761.000000</td>\n",
       "      <td>9761.000000</td>\n",
       "      <td>9761.000000</td>\n",
       "      <td>9761.000000</td>\n",
       "      <td>9761.000000</td>\n",
       "      <td>9761.000000</td>\n",
       "      <td>9761.000000</td>\n",
       "      <td>9761.000000</td>\n",
       "    </tr>\n",
       "    <tr>\n",
       "      <td>mean</td>\n",
       "      <td>4.605288e+09</td>\n",
       "      <td>5.427350e+05</td>\n",
       "      <td>3.375884</td>\n",
       "      <td>2.117175</td>\n",
       "      <td>2086.734146</td>\n",
       "      <td>1.521526e+04</td>\n",
       "      <td>1.486067</td>\n",
       "      <td>0.008401</td>\n",
       "      <td>0.248028</td>\n",
       "      <td>3.415531</td>\n",
       "      <td>7.66151</td>\n",
       "      <td>1793.291159</td>\n",
       "      <td>293.442987</td>\n",
       "      <td>1970.799508</td>\n",
       "      <td>86.066592</td>\n",
       "      <td>98077.790185</td>\n",
       "      <td>47.560052</td>\n",
       "      <td>-122.214322</td>\n",
       "      <td>1992.359697</td>\n",
       "      <td>12824.785165</td>\n",
       "    </tr>\n",
       "    <tr>\n",
       "      <td>std</td>\n",
       "      <td>2.876044e+09</td>\n",
       "      <td>3.795276e+05</td>\n",
       "      <td>0.960697</td>\n",
       "      <td>0.773971</td>\n",
       "      <td>927.194303</td>\n",
       "      <td>4.126673e+04</td>\n",
       "      <td>0.532317</td>\n",
       "      <td>0.091275</td>\n",
       "      <td>0.787877</td>\n",
       "      <td>0.650552</td>\n",
       "      <td>1.18268</td>\n",
       "      <td>835.763817</td>\n",
       "      <td>442.612722</td>\n",
       "      <td>29.240009</td>\n",
       "      <td>405.417369</td>\n",
       "      <td>53.203594</td>\n",
       "      <td>0.140236</td>\n",
       "      <td>0.139895</td>\n",
       "      <td>687.322247</td>\n",
       "      <td>26518.337402</td>\n",
       "    </tr>\n",
       "    <tr>\n",
       "      <td>min</td>\n",
       "      <td>1.200019e+06</td>\n",
       "      <td>8.000000e+04</td>\n",
       "      <td>0.000000</td>\n",
       "      <td>0.000000</td>\n",
       "      <td>290.000000</td>\n",
       "      <td>5.200000e+02</td>\n",
       "      <td>1.000000</td>\n",
       "      <td>0.000000</td>\n",
       "      <td>0.000000</td>\n",
       "      <td>1.000000</td>\n",
       "      <td>1.00000</td>\n",
       "      <td>290.000000</td>\n",
       "      <td>0.000000</td>\n",
       "      <td>1900.000000</td>\n",
       "      <td>0.000000</td>\n",
       "      <td>98001.000000</td>\n",
       "      <td>47.155900</td>\n",
       "      <td>-122.514000</td>\n",
       "      <td>620.000000</td>\n",
       "      <td>660.000000</td>\n",
       "    </tr>\n",
       "    <tr>\n",
       "      <td>25%</td>\n",
       "      <td>2.126049e+09</td>\n",
       "      <td>3.200000e+05</td>\n",
       "      <td>3.000000</td>\n",
       "      <td>1.750000</td>\n",
       "      <td>1420.000000</td>\n",
       "      <td>5.100000e+03</td>\n",
       "      <td>1.000000</td>\n",
       "      <td>0.000000</td>\n",
       "      <td>0.000000</td>\n",
       "      <td>3.000000</td>\n",
       "      <td>7.00000</td>\n",
       "      <td>1190.000000</td>\n",
       "      <td>0.000000</td>\n",
       "      <td>1951.000000</td>\n",
       "      <td>0.000000</td>\n",
       "      <td>98033.000000</td>\n",
       "      <td>47.467800</td>\n",
       "      <td>-122.327000</td>\n",
       "      <td>1490.000000</td>\n",
       "      <td>5160.000000</td>\n",
       "    </tr>\n",
       "    <tr>\n",
       "      <td>50%</td>\n",
       "      <td>3.905041e+09</td>\n",
       "      <td>4.500000e+05</td>\n",
       "      <td>3.000000</td>\n",
       "      <td>2.250000</td>\n",
       "      <td>1910.000000</td>\n",
       "      <td>7.642000e+03</td>\n",
       "      <td>1.500000</td>\n",
       "      <td>0.000000</td>\n",
       "      <td>0.000000</td>\n",
       "      <td>3.000000</td>\n",
       "      <td>7.00000</td>\n",
       "      <td>1570.000000</td>\n",
       "      <td>0.000000</td>\n",
       "      <td>1975.000000</td>\n",
       "      <td>0.000000</td>\n",
       "      <td>98065.000000</td>\n",
       "      <td>47.572200</td>\n",
       "      <td>-122.229000</td>\n",
       "      <td>1840.000000</td>\n",
       "      <td>7660.000000</td>\n",
       "    </tr>\n",
       "    <tr>\n",
       "      <td>75%</td>\n",
       "      <td>7.338403e+09</td>\n",
       "      <td>6.490000e+05</td>\n",
       "      <td>4.000000</td>\n",
       "      <td>2.500000</td>\n",
       "      <td>2570.000000</td>\n",
       "      <td>1.066000e+04</td>\n",
       "      <td>2.000000</td>\n",
       "      <td>0.000000</td>\n",
       "      <td>0.000000</td>\n",
       "      <td>4.000000</td>\n",
       "      <td>8.00000</td>\n",
       "      <td>2230.000000</td>\n",
       "      <td>570.000000</td>\n",
       "      <td>1996.000000</td>\n",
       "      <td>0.000000</td>\n",
       "      <td>98117.000000</td>\n",
       "      <td>47.680400</td>\n",
       "      <td>-122.126000</td>\n",
       "      <td>2370.000000</td>\n",
       "      <td>10113.000000</td>\n",
       "    </tr>\n",
       "    <tr>\n",
       "      <td>max</td>\n",
       "      <td>9.900000e+09</td>\n",
       "      <td>7.700000e+06</td>\n",
       "      <td>33.000000</td>\n",
       "      <td>8.000000</td>\n",
       "      <td>12050.000000</td>\n",
       "      <td>1.651359e+06</td>\n",
       "      <td>3.500000</td>\n",
       "      <td>1.000000</td>\n",
       "      <td>4.000000</td>\n",
       "      <td>5.000000</td>\n",
       "      <td>13.00000</td>\n",
       "      <td>8860.000000</td>\n",
       "      <td>3480.000000</td>\n",
       "      <td>2015.000000</td>\n",
       "      <td>2015.000000</td>\n",
       "      <td>98199.000000</td>\n",
       "      <td>47.777600</td>\n",
       "      <td>-121.319000</td>\n",
       "      <td>5790.000000</td>\n",
       "      <td>560617.000000</td>\n",
       "    </tr>\n",
       "  </tbody>\n",
       "</table>\n",
       "</div>"
      ],
      "text/plain": [
       "                 id         price     bedrooms    bathrooms   sqft_living  \\\n",
       "count  9.761000e+03  9.761000e+03  9761.000000  9761.000000   9761.000000   \n",
       "mean   4.605288e+09  5.427350e+05     3.375884     2.117175   2086.734146   \n",
       "std    2.876044e+09  3.795276e+05     0.960697     0.773971    927.194303   \n",
       "min    1.200019e+06  8.000000e+04     0.000000     0.000000    290.000000   \n",
       "25%    2.126049e+09  3.200000e+05     3.000000     1.750000   1420.000000   \n",
       "50%    3.905041e+09  4.500000e+05     3.000000     2.250000   1910.000000   \n",
       "75%    7.338403e+09  6.490000e+05     4.000000     2.500000   2570.000000   \n",
       "max    9.900000e+09  7.700000e+06    33.000000     8.000000  12050.000000   \n",
       "\n",
       "           sqft_lot       floors   waterfront         view    condition  \\\n",
       "count  9.761000e+03  9761.000000  9761.000000  9761.000000  9761.000000   \n",
       "mean   1.521526e+04     1.486067     0.008401     0.248028     3.415531   \n",
       "std    4.126673e+04     0.532317     0.091275     0.787877     0.650552   \n",
       "min    5.200000e+02     1.000000     0.000000     0.000000     1.000000   \n",
       "25%    5.100000e+03     1.000000     0.000000     0.000000     3.000000   \n",
       "50%    7.642000e+03     1.500000     0.000000     0.000000     3.000000   \n",
       "75%    1.066000e+04     2.000000     0.000000     0.000000     4.000000   \n",
       "max    1.651359e+06     3.500000     1.000000     4.000000     5.000000   \n",
       "\n",
       "            grade   sqft_above  sqft_basement     yr_built  yr_renovated  \\\n",
       "count  9761.00000  9761.000000    9761.000000  9761.000000   9761.000000   \n",
       "mean      7.66151  1793.291159     293.442987  1970.799508     86.066592   \n",
       "std       1.18268   835.763817     442.612722    29.240009    405.417369   \n",
       "min       1.00000   290.000000       0.000000  1900.000000      0.000000   \n",
       "25%       7.00000  1190.000000       0.000000  1951.000000      0.000000   \n",
       "50%       7.00000  1570.000000       0.000000  1975.000000      0.000000   \n",
       "75%       8.00000  2230.000000     570.000000  1996.000000      0.000000   \n",
       "max      13.00000  8860.000000    3480.000000  2015.000000   2015.000000   \n",
       "\n",
       "            zipcode          lat         long  sqft_living15     sqft_lot15  \n",
       "count   9761.000000  9761.000000  9761.000000    9761.000000    9761.000000  \n",
       "mean   98077.790185    47.560052  -122.214322    1992.359697   12824.785165  \n",
       "std       53.203594     0.140236     0.139895     687.322247   26518.337402  \n",
       "min    98001.000000    47.155900  -122.514000     620.000000     660.000000  \n",
       "25%    98033.000000    47.467800  -122.327000    1490.000000    5160.000000  \n",
       "50%    98065.000000    47.572200  -122.229000    1840.000000    7660.000000  \n",
       "75%    98117.000000    47.680400  -122.126000    2370.000000   10113.000000  \n",
       "max    98199.000000    47.777600  -121.319000    5790.000000  560617.000000  "
      ]
     },
     "execution_count": 4,
     "metadata": {},
     "output_type": "execute_result"
    }
   ],
   "source": [
    "train.describe()"
   ]
  },
  {
   "cell_type": "code",
   "execution_count": 5,
   "metadata": {},
   "outputs": [
    {
     "data": {
      "text/plain": [
       "id                 int64\n",
       "date              object\n",
       "price            float64\n",
       "bedrooms           int64\n",
       "bathrooms        float64\n",
       "sqft_living        int64\n",
       "sqft_lot           int64\n",
       "floors           float64\n",
       "waterfront         int64\n",
       "view               int64\n",
       "condition          int64\n",
       "grade              int64\n",
       "sqft_above         int64\n",
       "sqft_basement      int64\n",
       "yr_built           int64\n",
       "yr_renovated       int64\n",
       "zipcode            int64\n",
       "lat              float64\n",
       "long             float64\n",
       "sqft_living15      int64\n",
       "sqft_lot15         int64\n",
       "dtype: object"
      ]
     },
     "execution_count": 5,
     "metadata": {},
     "output_type": "execute_result"
    }
   ],
   "source": [
    "train.dtypes"
   ]
  },
  {
   "cell_type": "code",
   "execution_count": 6,
   "metadata": {},
   "outputs": [
    {
     "data": {
      "text/plain": [
       "False"
      ]
     },
     "execution_count": 6,
     "metadata": {},
     "output_type": "execute_result"
    }
   ],
   "source": [
    "train['date'].isnull().values.any()"
   ]
  },
  {
   "cell_type": "code",
   "execution_count": 7,
   "metadata": {},
   "outputs": [],
   "source": [
    "train=train.drop(['id','date'],axis=1)\n",
    "test=test.drop(['id','date'],axis=1)\n",
    "valid=valid.drop(['id','date'],axis=1)"
   ]
  },
  {
   "cell_type": "code",
   "execution_count": 8,
   "metadata": {},
   "outputs": [
    {
     "data": {
      "text/html": [
       "<div>\n",
       "<style scoped>\n",
       "    .dataframe tbody tr th:only-of-type {\n",
       "        vertical-align: middle;\n",
       "    }\n",
       "\n",
       "    .dataframe tbody tr th {\n",
       "        vertical-align: top;\n",
       "    }\n",
       "\n",
       "    .dataframe thead th {\n",
       "        text-align: right;\n",
       "    }\n",
       "</style>\n",
       "<table border=\"1\" class=\"dataframe\">\n",
       "  <thead>\n",
       "    <tr style=\"text-align: right;\">\n",
       "      <th></th>\n",
       "      <th>bedrooms</th>\n",
       "      <th>bathrooms</th>\n",
       "      <th>sqft_living</th>\n",
       "      <th>sqft_lot</th>\n",
       "      <th>floors</th>\n",
       "      <th>waterfront</th>\n",
       "      <th>view</th>\n",
       "      <th>condition</th>\n",
       "      <th>grade</th>\n",
       "      <th>sqft_above</th>\n",
       "      <th>sqft_basement</th>\n",
       "      <th>yr_built</th>\n",
       "      <th>yr_renovated</th>\n",
       "      <th>zipcode</th>\n",
       "      <th>lat</th>\n",
       "      <th>long</th>\n",
       "      <th>sqft_living15</th>\n",
       "      <th>sqft_lot15</th>\n",
       "    </tr>\n",
       "  </thead>\n",
       "  <tbody>\n",
       "    <tr>\n",
       "      <td>0</td>\n",
       "      <td>4</td>\n",
       "      <td>3.00</td>\n",
       "      <td>1960</td>\n",
       "      <td>5000</td>\n",
       "      <td>1.0</td>\n",
       "      <td>0</td>\n",
       "      <td>0</td>\n",
       "      <td>5</td>\n",
       "      <td>7</td>\n",
       "      <td>1050</td>\n",
       "      <td>910</td>\n",
       "      <td>1965</td>\n",
       "      <td>0</td>\n",
       "      <td>98136</td>\n",
       "      <td>47.5208</td>\n",
       "      <td>-122.393</td>\n",
       "      <td>1360</td>\n",
       "      <td>5000</td>\n",
       "    </tr>\n",
       "    <tr>\n",
       "      <td>1</td>\n",
       "      <td>4</td>\n",
       "      <td>4.50</td>\n",
       "      <td>5420</td>\n",
       "      <td>101930</td>\n",
       "      <td>1.0</td>\n",
       "      <td>0</td>\n",
       "      <td>0</td>\n",
       "      <td>3</td>\n",
       "      <td>11</td>\n",
       "      <td>3890</td>\n",
       "      <td>1530</td>\n",
       "      <td>2001</td>\n",
       "      <td>0</td>\n",
       "      <td>98053</td>\n",
       "      <td>47.6561</td>\n",
       "      <td>-122.005</td>\n",
       "      <td>4760</td>\n",
       "      <td>101930</td>\n",
       "    </tr>\n",
       "    <tr>\n",
       "      <td>2</td>\n",
       "      <td>2</td>\n",
       "      <td>1.00</td>\n",
       "      <td>1160</td>\n",
       "      <td>6000</td>\n",
       "      <td>1.0</td>\n",
       "      <td>0</td>\n",
       "      <td>0</td>\n",
       "      <td>4</td>\n",
       "      <td>7</td>\n",
       "      <td>860</td>\n",
       "      <td>300</td>\n",
       "      <td>1942</td>\n",
       "      <td>0</td>\n",
       "      <td>98115</td>\n",
       "      <td>47.6900</td>\n",
       "      <td>-122.292</td>\n",
       "      <td>1330</td>\n",
       "      <td>6000</td>\n",
       "    </tr>\n",
       "    <tr>\n",
       "      <td>3</td>\n",
       "      <td>3</td>\n",
       "      <td>1.00</td>\n",
       "      <td>1430</td>\n",
       "      <td>19901</td>\n",
       "      <td>1.5</td>\n",
       "      <td>0</td>\n",
       "      <td>0</td>\n",
       "      <td>4</td>\n",
       "      <td>7</td>\n",
       "      <td>1430</td>\n",
       "      <td>0</td>\n",
       "      <td>1927</td>\n",
       "      <td>0</td>\n",
       "      <td>98028</td>\n",
       "      <td>47.7558</td>\n",
       "      <td>-122.229</td>\n",
       "      <td>1780</td>\n",
       "      <td>12697</td>\n",
       "    </tr>\n",
       "    <tr>\n",
       "      <td>4</td>\n",
       "      <td>3</td>\n",
       "      <td>1.75</td>\n",
       "      <td>1370</td>\n",
       "      <td>9680</td>\n",
       "      <td>1.0</td>\n",
       "      <td>0</td>\n",
       "      <td>0</td>\n",
       "      <td>4</td>\n",
       "      <td>7</td>\n",
       "      <td>1370</td>\n",
       "      <td>0</td>\n",
       "      <td>1977</td>\n",
       "      <td>0</td>\n",
       "      <td>98074</td>\n",
       "      <td>47.6127</td>\n",
       "      <td>-122.045</td>\n",
       "      <td>1370</td>\n",
       "      <td>10208</td>\n",
       "    </tr>\n",
       "  </tbody>\n",
       "</table>\n",
       "</div>"
      ],
      "text/plain": [
       "   bedrooms  bathrooms  sqft_living  sqft_lot  floors  waterfront  view  \\\n",
       "0         4       3.00         1960      5000     1.0           0     0   \n",
       "1         4       4.50         5420    101930     1.0           0     0   \n",
       "2         2       1.00         1160      6000     1.0           0     0   \n",
       "3         3       1.00         1430     19901     1.5           0     0   \n",
       "4         3       1.75         1370      9680     1.0           0     0   \n",
       "\n",
       "   condition  grade  sqft_above  sqft_basement  yr_built  yr_renovated  \\\n",
       "0          5      7        1050            910      1965             0   \n",
       "1          3     11        3890           1530      2001             0   \n",
       "2          4      7         860            300      1942             0   \n",
       "3          4      7        1430              0      1927             0   \n",
       "4          4      7        1370              0      1977             0   \n",
       "\n",
       "   zipcode      lat     long  sqft_living15  sqft_lot15  \n",
       "0    98136  47.5208 -122.393           1360        5000  \n",
       "1    98053  47.6561 -122.005           4760      101930  \n",
       "2    98115  47.6900 -122.292           1330        6000  \n",
       "3    98028  47.7558 -122.229           1780       12697  \n",
       "4    98074  47.6127 -122.045           1370       10208  "
      ]
     },
     "execution_count": 8,
     "metadata": {},
     "output_type": "execute_result"
    }
   ],
   "source": [
    "xtrain=train.iloc[:,1:]\n",
    "ytrain=train.loc[:,'price']\n",
    "\n",
    "xvalid=valid.iloc[:,1:]\n",
    "yvalid=valid.loc[:,'price']\n",
    "\n",
    "xtest=test.iloc[:,1:]\n",
    "ytest=test.loc[:,'price']\n",
    "\n",
    "xtrain.head()"
   ]
  },
  {
   "cell_type": "code",
   "execution_count": null,
   "metadata": {},
   "outputs": [],
   "source": []
  },
  {
   "cell_type": "markdown",
   "metadata": {},
   "source": [
    "# Linear Regression Model"
   ]
  },
  {
   "cell_type": "code",
   "execution_count": 9,
   "metadata": {},
   "outputs": [
    {
     "name": "stdout",
     "output_type": "stream",
     "text": [
      "Coefficients are\n",
      "[-3.36060099e+04  4.47514550e+04  1.15326927e+02  1.57341500e-01\n",
      "  4.26837286e+03  6.13503557e+05  5.15290304e+04  2.49726794e+04\n",
      "  9.75375728e+04  7.84718735e+01  3.68550542e+01 -2.81599991e+03\n",
      "  1.32665896e+01 -5.97639901e+02  5.95138240e+05 -2.23730664e+05\n",
      "  1.08693821e+01 -3.47340148e-01]\n"
     ]
    }
   ],
   "source": [
    "clf_linear= linear_model.LinearRegression()\n",
    "clf_linear.fit(xtrain,ytrain)\n",
    "print('Coefficients are')\n",
    "print(clf_linear.coef_)"
   ]
  },
  {
   "cell_type": "code",
   "execution_count": 10,
   "metadata": {},
   "outputs": [],
   "source": [
    "yhat=clf_linear.predict(xtest)"
   ]
  },
  {
   "cell_type": "code",
   "execution_count": 69,
   "metadata": {},
   "outputs": [
    {
     "name": "stdout",
     "output_type": "stream",
     "text": [
      "RMSE score of a linear fit is 200259.74634917808\n",
      "R squred score of a linear fit is 0.6876846633883941\n"
     ]
    }
   ],
   "source": [
    "from sklearn.metrics import mean_squared_error as mse\n",
    "rmse_lin=mse(ytest,yhat,squared=False)\n",
    "print('RMSE score of a linear fit is', rmse_lin)\n",
    "\n",
    "print('R squred score of a linear fit is', clf_linear.score(xtest,ytest))"
   ]
  },
  {
   "cell_type": "markdown",
   "metadata": {},
   "source": [
    "# Polynomial Regression Model"
   ]
  },
  {
   "cell_type": "code",
   "execution_count": 12,
   "metadata": {},
   "outputs": [],
   "source": [
    "from sklearn.preprocessing import PolynomialFeatures\n",
    "from sklearn.pipeline import Pipeline"
   ]
  },
  {
   "cell_type": "markdown",
   "metadata": {},
   "source": [
    "### Degree=2"
   ]
  },
  {
   "cell_type": "code",
   "execution_count": 13,
   "metadata": {},
   "outputs": [],
   "source": [
    "model2=Pipeline([('poly',PolynomialFeatures(degree=2)),('linear', linear_model.LinearRegression(fit_intercept=False))])\n",
    "model2=model2.fit(xtrain,ytrain)"
   ]
  },
  {
   "cell_type": "code",
   "execution_count": 70,
   "metadata": {},
   "outputs": [
    {
     "name": "stdout",
     "output_type": "stream",
     "text": [
      "RMSE score of a polynomial fit of degree 2 is 164355.6822321383\n",
      "R squred score of a polynomial fit of degree 2 is 0.78963405544254\n"
     ]
    }
   ],
   "source": [
    "yhat2=model2.predict(xtest)\n",
    "rmse_poly=mse(ytest,yhat2,squared=False)\n",
    "print('RMSE score of a polynomial fit of degree 2 is', rmse_poly)\n",
    "\n",
    "print('R squred score of a polynomial fit of degree 2 is', model2.score(xtest,ytest))"
   ]
  },
  {
   "cell_type": "markdown",
   "metadata": {},
   "source": [
    "### Degree=3"
   ]
  },
  {
   "cell_type": "code",
   "execution_count": 15,
   "metadata": {},
   "outputs": [],
   "source": [
    "model3=Pipeline([('poly',PolynomialFeatures(degree=3)),('linear', linear_model.LinearRegression(fit_intercept=False))])\n",
    "model3=model3.fit(xtrain,ytrain)"
   ]
  },
  {
   "cell_type": "code",
   "execution_count": 16,
   "metadata": {},
   "outputs": [
    {
     "name": "stdout",
     "output_type": "stream",
     "text": [
      "RMSE score of a polynomial fit of degree 3 is 879263.215660285\n",
      "R squred score of a polynomial fit of degree 3 is -5.020655768539865\n"
     ]
    }
   ],
   "source": [
    "yhat3=model3.predict(xtest)\n",
    "rmse=mse(ytest,yhat3,squared=False)\n",
    "print('RMSE score of a polynomial fit of degree 3 is', rmse)\n",
    "\n",
    "print('R squred score of a polynomial fit of degree 3 is', model3.score(xtest,ytest))"
   ]
  },
  {
   "cell_type": "markdown",
   "metadata": {},
   "source": [
    "### Degree=4"
   ]
  },
  {
   "cell_type": "code",
   "execution_count": 17,
   "metadata": {},
   "outputs": [],
   "source": [
    "model4=Pipeline([('poly',PolynomialFeatures(degree=4)),('linear', linear_model.LinearRegression(fit_intercept=False))])\n",
    "model4=model4.fit(xtrain,ytrain)"
   ]
  },
  {
   "cell_type": "code",
   "execution_count": 18,
   "metadata": {},
   "outputs": [
    {
     "name": "stdout",
     "output_type": "stream",
     "text": [
      "RMSE score of a polynomial fit of degree 4 is 34487191.630132176\n",
      "R squred score of a polynomial fit of degree 4 is -9261.35981977783\n"
     ]
    }
   ],
   "source": [
    "yhat4=model4.predict(xtest)\n",
    "rmse=mse(ytest,yhat4,squared=False)\n",
    "print('RMSE score of a polynomial fit of degree 4 is', rmse)\n",
    "\n",
    "print('R squred score of a polynomial fit of degree 4 is', model4.score(xtest,ytest))"
   ]
  },
  {
   "cell_type": "code",
   "execution_count": 19,
   "metadata": {},
   "outputs": [
    {
     "data": {
      "image/png": "[encoded data removed]",
      "text/plain": [
       "<Figure size 432x288 with 2 Axes>"
      ]
     },
     "metadata": {
      "needs_background": "light"
     },
     "output_type": "display_data"
    }
   ],
   "source": [
    "import matplotlib.pyplot as plt\n",
    "%matplotlib inline\n",
    "\n",
    "degrees=[1,2,3,4]\n",
    "Rmse=[200259.74634917808,164355.6822321383,879263.215660285,34487191.630132176]\n",
    "Rsq=[clf_linear.score(xtest,ytest),model2.score(xtest,ytest),model3.score(xtest,ytest),model4.score(xtest,ytest)]\n",
    "\n",
    "fig,(axs1,axs2)= plt.subplots(1,2)\n",
    "axs1.plot(degrees,Rmse)\n",
    "axs1.set_title('Rmse Vs Degree of plynomial',y=1.04)\n",
    "axs2.plot(degrees,Rsq)\n",
    "axs2.set_title('R squared error Vs Degree of plynomial',x=0.8)\n",
    "plt.tight_layout()\n",
    "#plt.figure(figsize=(10,40))\n",
    "plt.show()"
   ]
  },
  {
   "cell_type": "markdown",
   "metadata": {},
   "source": [
    "# Ridge Regression Model"
   ]
  },
  {
   "cell_type": "code",
   "execution_count": 20,
   "metadata": {},
   "outputs": [],
   "source": [
    "poly=PolynomialFeatures(degree=2)\n",
    "rtrain=poly.fit_transform(xtrain)\n",
    "rtest=poly.fit_transform(xtest)\n",
    "rvalid=poly.fit_transform(xvalid)\n"
   ]
  },
  {
   "cell_type": "code",
   "execution_count": 21,
   "metadata": {},
   "outputs": [
    {
     "data": {
      "text/plain": [
       "Ridge(alpha=1.5e-05)"
      ]
     },
     "execution_count": 21,
     "metadata": {},
     "output_type": "execute_result"
    }
   ],
   "source": [
    "ridge_model=linear_model.Ridge(alpha=1.5e-5)\n",
    "ridge_model.fit(rtrain,ytrain)"
   ]
  },
  {
   "cell_type": "code",
   "execution_count": 22,
   "metadata": {},
   "outputs": [
    {
     "name": "stdout",
     "output_type": "stream",
     "text": [
      "RMSE score of a ridge model fit of polynomial degree 2 is 164323.02504027713\n",
      "R squred score of a ridge model fit of polynomial degree 2 is 0.7897176458410519\n"
     ]
    }
   ],
   "source": [
    "yhat_r=ridge_model.predict(rtest)\n",
    "rmse_r=mse(ytest,yhat_r,squared=False)\n",
    "print('RMSE score of a ridge model fit of polynomial degree 2 is', rmse_r)\n",
    "\n",
    "print('R squred score of a ridge model fit of polynomial degree 2 is', ridge_model.score(rtest,ytest))"
   ]
  },
  {
   "cell_type": "markdown",
   "metadata": {},
   "source": [
    "### Trying for different L2 penalty values on validation set"
   ]
  },
  {
   "cell_type": "code",
   "execution_count": 23,
   "metadata": {},
   "outputs": [],
   "source": [
    "def ridgefit(alph,xtr,ytr,xval,yval):\n",
    "    ridge_model=linear_model.Ridge(alpha=alph)\n",
    "    ridge_model.fit(xtr,ytr)\n",
    "    \n",
    "    yhat_r=ridge_model.predict(xval)\n",
    "    rmse_r=mse(yval,yhat_r,squared=False)\n",
    "    print('RMSE score of a ridge model fit of polynomial degree 2 with alpha',alph,'is', rmse_r)\n",
    "    print('R squred score of a ridge model fit of polynomial degree 2 with alpha',alph,'is', ridge_model.score(xval,yval))\n",
    "    print('')\n",
    "    return rmse_r"
   ]
  },
  {
   "cell_type": "code",
   "execution_count": 24,
   "metadata": {},
   "outputs": [
    {
     "name": "stdout",
     "output_type": "stream",
     "text": [
      "RMSE score of a ridge model fit of polynomial degree 2 with alpha 1.5e-05 is 158422.61750191648\n",
      "R squred score of a ridge model fit of polynomial degree 2 with alpha 1.5e-05 is 0.80215721599186\n",
      "\n",
      "RMSE score of a ridge model fit of polynomial degree 2 with alpha 0.00015 is 158496.48476521825\n",
      "R squred score of a ridge model fit of polynomial degree 2 with alpha 0.00015 is 0.8019726777953856\n",
      "\n",
      "RMSE score of a ridge model fit of polynomial degree 2 with alpha 0.0015 is 158626.1389230951\n",
      "R squred score of a ridge model fit of polynomial degree 2 with alpha 0.0015 is 0.8016485625045808\n",
      "\n",
      "RMSE score of a ridge model fit of polynomial degree 2 with alpha 0.015 is 158706.63160461717\n",
      "R squred score of a ridge model fit of polynomial degree 2 with alpha 0.015 is 0.8014472099403644\n",
      "\n",
      "RMSE score of a ridge model fit of polynomial degree 2 with alpha 0.15 is 158918.2831632727\n",
      "R squred score of a ridge model fit of polynomial degree 2 with alpha 0.15 is 0.800917275825743\n",
      "\n",
      "RMSE score of a ridge model fit of polynomial degree 2 with alpha 1.5 is 160691.69975546192\n",
      "R squred score of a ridge model fit of polynomial degree 2 with alpha 1.5 is 0.7964492368906706\n",
      "\n",
      "RMSE score of a ridge model fit of polynomial degree 2 with alpha 15.0 is 164918.58578497183\n",
      "R squred score of a ridge model fit of polynomial degree 2 with alpha 15.0 is 0.7855998674298601\n",
      "\n",
      "RMSE score of a ridge model fit of polynomial degree 2 with alpha 123.0 is 166956.72473809007\n",
      "R squred score of a ridge model fit of polynomial degree 2 with alpha 123.0 is 0.7802678129302748\n",
      "\n",
      "RMSE score of a ridge model fit of polynomial degree 2 with alpha 1000.0 is 167795.3184513674\n",
      "R squred score of a ridge model fit of polynomial degree 2 with alpha 1000.0 is 0.7780549185578088\n",
      "\n"
     ]
    }
   ],
   "source": [
    "l2=[1.5e-5,1.5e-4,1.5e-3,1.5e-2,1.5e-1,1.5,1.5e1,1.23e2,1e3]\n",
    "rmse_r=[]\n",
    "for alp in l2:\n",
    "    tmp1=ridgefit(alp,rtrain,ytrain,rvalid,yvalid)\n",
    "    rmse_r=np.append(rmse_r,tmp1)"
   ]
  },
  {
   "cell_type": "code",
   "execution_count": 25,
   "metadata": {},
   "outputs": [
    {
     "name": "stdout",
     "output_type": "stream",
     "text": [
      "Minimum rmse is 158422.61750191648 from model 0\n"
     ]
    }
   ],
   "source": [
    "model=0\n",
    "min_ridge=1e12\n",
    "for i in range(len(rmse_r)):\n",
    "    if rmse_r[i]<min_ridge:\n",
    "        min_ridge=rmse_r[i]\n",
    "        model=i\n",
    "print(\"Minimum rmse is\",min_ridge,\"from model\",model)"
   ]
  },
  {
   "cell_type": "code",
   "execution_count": 26,
   "metadata": {},
   "outputs": [
    {
     "name": "stdout",
     "output_type": "stream",
     "text": [
      "RMSE score of a ridge model fit of polynomial degree 2 with alpha 1.5e-05 is 164323.02504027713\n",
      "R squred score of a ridge model fit of polynomial degree 2 with alpha 1.5e-05 is 0.7897176458410519\n",
      "\n"
     ]
    }
   ],
   "source": [
    "ridge_rmse=ridgefit(1.5e-5,rtrain,ytrain,rtest,ytest)"
   ]
  },
  {
   "cell_type": "code",
   "execution_count": null,
   "metadata": {},
   "outputs": [],
   "source": []
  },
  {
   "cell_type": "markdown",
   "metadata": {},
   "source": [
    "# Lasso Regression"
   ]
  },
  {
   "cell_type": "code",
   "execution_count": 27,
   "metadata": {},
   "outputs": [
    {
     "name": "stderr",
     "output_type": "stream",
     "text": [
      "/root/anaconda3/lib/python3.7/site-packages/sklearn/linear_model/_coordinate_descent.py:532: ConvergenceWarning: Objective did not converge. You might want to increase the number of iterations. Duality gap: 134987619144360.33, tolerance: 70292119468586.164\n",
      "  positive)\n"
     ]
    },
    {
     "data": {
      "text/plain": [
       "Lasso(alpha=1.5e-05, max_iter=10000, normalize=True, tol=0.05)"
      ]
     },
     "execution_count": 27,
     "metadata": {},
     "output_type": "execute_result"
    }
   ],
   "source": [
    "lasso_model=linear_model.Lasso(alpha=1.5e-5,tol=0.05,max_iter=10000,normalize=True)\n",
    "lasso_model.fit(rtrain,ytrain)"
   ]
  },
  {
   "cell_type": "code",
   "execution_count": 28,
   "metadata": {},
   "outputs": [
    {
     "name": "stdout",
     "output_type": "stream",
     "text": [
      "RMSE score of a lasso model fit of polynomial degree 2 is 182482.68426487537\n",
      "R squred score of a lasso model fit of polynomial degree 2 is 0.740672060645803\n"
     ]
    }
   ],
   "source": [
    "yhat_l=lasso_model.predict(rtest)\n",
    "rmse_l=mse(ytest,yhat_l,squared=False)\n",
    "print('RMSE score of a lasso model fit of polynomial degree 2 is', rmse_l)\n",
    "\n",
    "print('R squred score of a lasso model fit of polynomial degree 2 is', lasso_model.score(rtest,ytest))"
   ]
  },
  {
   "cell_type": "markdown",
   "metadata": {},
   "source": [
    "### Trying for different L2 penalty values on validation set"
   ]
  },
  {
   "cell_type": "code",
   "execution_count": 29,
   "metadata": {},
   "outputs": [],
   "source": [
    "def lassofit(alph,xtr,ytr,xval,yval):\n",
    "    lasso_model=linear_model.Lasso(alpha=alph,tol=0.05,max_iter=100000,normalize=True)\n",
    "    lasso_model.fit(xtr,ytr)\n",
    "    \n",
    "    yhat_l=lasso_model.predict(xval)\n",
    "    rmse_l=mse(yval,yhat_l,squared=False)\n",
    "    print('RMSE score of a lasso model fit of polynomial degree 2 with alpha',alph,'is', rmse_l)\n",
    "    print('R squred score of a lasso model fit of polynomial degree 2 with alpha',alph,'is', lasso_model.score(xval,yval))\n",
    "    print('')\n",
    "    return rmse_l"
   ]
  },
  {
   "cell_type": "code",
   "execution_count": 30,
   "metadata": {},
   "outputs": [
    {
     "name": "stderr",
     "output_type": "stream",
     "text": [
      "/root/anaconda3/lib/python3.7/site-packages/sklearn/linear_model/_coordinate_descent.py:532: ConvergenceWarning: Objective did not converge. You might want to increase the number of iterations. Duality gap: 127202098906961.7, tolerance: 70292119468586.164\n",
      "  positive)\n"
     ]
    },
    {
     "name": "stdout",
     "output_type": "stream",
     "text": [
      "RMSE score of a lasso model fit of polynomial degree 2 with alpha 1.5e-05 is 168011.31169559728\n",
      "R squred score of a lasso model fit of polynomial degree 2 with alpha 1.5e-05 is 0.7774831565688866\n",
      "\n"
     ]
    },
    {
     "name": "stderr",
     "output_type": "stream",
     "text": [
      "/root/anaconda3/lib/python3.7/site-packages/sklearn/linear_model/_coordinate_descent.py:532: ConvergenceWarning: Objective did not converge. You might want to increase the number of iterations. Duality gap: 127143481695422.88, tolerance: 70292119468586.164\n",
      "  positive)\n"
     ]
    },
    {
     "name": "stdout",
     "output_type": "stream",
     "text": [
      "RMSE score of a lasso model fit of polynomial degree 2 with alpha 0.00015 is 168011.13854877435\n",
      "R squred score of a lasso model fit of polynomial degree 2 with alpha 0.00015 is 0.777483615205442\n",
      "\n"
     ]
    },
    {
     "name": "stderr",
     "output_type": "stream",
     "text": [
      "/root/anaconda3/lib/python3.7/site-packages/sklearn/linear_model/_coordinate_descent.py:532: ConvergenceWarning: Objective did not converge. You might want to increase the number of iterations. Duality gap: 126556890101552.38, tolerance: 70292119468586.164\n",
      "  positive)\n"
     ]
    },
    {
     "name": "stdout",
     "output_type": "stream",
     "text": [
      "RMSE score of a lasso model fit of polynomial degree 2 with alpha 0.0015 is 168009.75093054087\n",
      "R squred score of a lasso model fit of polynomial degree 2 with alpha 0.0015 is 0.7774872907536275\n",
      "\n"
     ]
    },
    {
     "name": "stderr",
     "output_type": "stream",
     "text": [
      "/root/anaconda3/lib/python3.7/site-packages/sklearn/linear_model/_coordinate_descent.py:532: ConvergenceWarning: Objective did not converge. You might want to increase the number of iterations. Duality gap: 120620079875576.33, tolerance: 70292119468586.164\n",
      "  positive)\n"
     ]
    },
    {
     "name": "stdout",
     "output_type": "stream",
     "text": [
      "RMSE score of a lasso model fit of polynomial degree 2 with alpha 0.015 is 168010.41505087554\n",
      "R squred score of a lasso model fit of polynomial degree 2 with alpha 0.015 is 0.7774855316235034\n",
      "\n",
      "RMSE score of a lasso model fit of polynomial degree 2 with alpha 0.15 is 171663.39428181446\n",
      "R squred score of a lasso model fit of polynomial degree 2 with alpha 0.15 is 0.7677042647057817\n",
      "\n",
      "RMSE score of a lasso model fit of polynomial degree 2 with alpha 1.5 is 176300.06144221264\n",
      "R squred score of a lasso model fit of polynomial degree 2 with alpha 1.5 is 0.7549860719615266\n",
      "\n",
      "RMSE score of a lasso model fit of polynomial degree 2 with alpha 15.0 is 182125.5352816644\n",
      "R squred score of a lasso model fit of polynomial degree 2 with alpha 15.0 is 0.7385265916458377\n",
      "\n",
      "RMSE score of a lasso model fit of polynomial degree 2 with alpha 123.0 is 189588.43213473284\n",
      "R squred score of a lasso model fit of polynomial degree 2 with alpha 123.0 is 0.7166589390846747\n",
      "\n",
      "RMSE score of a lasso model fit of polynomial degree 2 with alpha 1000.0 is 243200.25407560877\n",
      "R squred score of a lasso model fit of polynomial degree 2 with alpha 1000.0 is 0.5337553147993404\n",
      "\n"
     ]
    }
   ],
   "source": [
    "l2_l=[1.5e-5,1.5e-4,1.5e-3,1.5e-2,1.5e-1,1.5,1.5e1,1.23e2,1e3]\n",
    "rmse_l=[]\n",
    "for alp in l2_l:\n",
    "    tmp2=lassofit(alp,rtrain,ytrain,rvalid,yvalid)\n",
    "    rmse_l=np.append(rmse_l,tmp2)"
   ]
  },
  {
   "cell_type": "code",
   "execution_count": 31,
   "metadata": {},
   "outputs": [
    {
     "name": "stdout",
     "output_type": "stream",
     "text": [
      "Minimum rmse is 168009.75093054087 from model 2\n"
     ]
    }
   ],
   "source": [
    "model=0\n",
    "min_lasso=1e12\n",
    "for i in range(len(rmse_l)):\n",
    "    if rmse_l[i]<min_lasso:\n",
    "        min_lasso=rmse_l[i]\n",
    "        model=i\n",
    "print(\"Minimum rmse is\",min_lasso,\"from model\",model)"
   ]
  },
  {
   "cell_type": "code",
   "execution_count": 32,
   "metadata": {},
   "outputs": [
    {
     "name": "stdout",
     "output_type": "stream",
     "text": [
      "RMSE score of a lasso model fit of polynomial degree 2 with alpha 0.0015 is 177397.29964398633\n",
      "R squred score of a lasso model fit of polynomial degree 2 with alpha 0.0015 is 0.7549244436789568\n",
      "\n"
     ]
    },
    {
     "name": "stderr",
     "output_type": "stream",
     "text": [
      "/root/anaconda3/lib/python3.7/site-packages/sklearn/linear_model/_coordinate_descent.py:532: ConvergenceWarning: Objective did not converge. You might want to increase the number of iterations. Duality gap: 126556890101552.38, tolerance: 70292119468586.164\n",
      "  positive)\n"
     ]
    }
   ],
   "source": [
    "lasso_rmse=lassofit(0.0015,rtrain,ytrain,rtest,ytest)"
   ]
  },
  {
   "cell_type": "markdown",
   "metadata": {},
   "source": [
    "# Elastic net "
   ]
  },
  {
   "cell_type": "code",
   "execution_count": 33,
   "metadata": {},
   "outputs": [
    {
     "name": "stderr",
     "output_type": "stream",
     "text": [
      "/root/anaconda3/lib/python3.7/site-packages/sklearn/linear_model/_coordinate_descent.py:532: ConvergenceWarning: Objective did not converge. You might want to increase the number of iterations. Duality gap: 135553504215275.8, tolerance: 70292119468586.164\n",
      "  positive)\n"
     ]
    },
    {
     "data": {
      "text/plain": [
       "ElasticNet(alpha=0.015, max_iter=10000, tol=0.05)"
      ]
     },
     "execution_count": 33,
     "metadata": {},
     "output_type": "execute_result"
    }
   ],
   "source": [
    "from sklearn.linear_model import ElasticNet\n",
    "elastic_model=ElasticNet(alpha=0.015,tol=0.05,max_iter=10000)\n",
    "elastic_model.fit(rtrain,ytrain)\n"
   ]
  },
  {
   "cell_type": "code",
   "execution_count": 34,
   "metadata": {},
   "outputs": [
    {
     "name": "stdout",
     "output_type": "stream",
     "text": [
      "RMSE score of a elastic net model fit of degree 2 is 182254.75894790716\n",
      "R squred score of a elastic model fit of degree 2 is 0.7413194699024257\n"
     ]
    }
   ],
   "source": [
    "yhat_e=elastic_model.predict(rtest)\n",
    "rmse_e=mse(ytest,yhat_e,squared=False)\n",
    "print('RMSE score of a elastic net model fit of degree 2 is', rmse_e)\n",
    "\n",
    "print('R squred score of a elastic model fit of degree 2 is', elastic_model.score(rtest,ytest))"
   ]
  },
  {
   "cell_type": "markdown",
   "metadata": {},
   "source": [
    "### Trying for different L2 penalty values on validation set"
   ]
  },
  {
   "cell_type": "code",
   "execution_count": 35,
   "metadata": {},
   "outputs": [],
   "source": [
    "def elasticfit(alph,xtr,ytr,xval,yval):\n",
    "    elastic_model=ElasticNet(alpha=alph,tol=0.05,max_iter=10000)\n",
    "    elastic_model.fit(xtr,ytr)\n",
    "    \n",
    "    yhat_e=elastic_model.predict(xval)\n",
    "    rmse_e=mse(yval,yhat_e,squared=False)\n",
    "    print('RMSE score of a elastic model fit of polynomial degree 2 with alpha',alph,'is', rmse_e)\n",
    "    print('R squred score of a elastic model fit of polynomial degree 2 with alpha',alph,'is', elastic_model.score(xval,yval))\n",
    "    print('')\n",
    "    return rmse_e"
   ]
  },
  {
   "cell_type": "code",
   "execution_count": 36,
   "metadata": {},
   "outputs": [
    {
     "name": "stderr",
     "output_type": "stream",
     "text": [
      "/root/anaconda3/lib/python3.7/site-packages/sklearn/linear_model/_coordinate_descent.py:532: ConvergenceWarning: Objective did not converge. You might want to increase the number of iterations. Duality gap: 134977490779990.84, tolerance: 70292119468586.164\n",
      "  positive)\n"
     ]
    },
    {
     "name": "stdout",
     "output_type": "stream",
     "text": [
      "RMSE score of a elastic model fit of polynomial degree 2 with alpha 1.5e-05 is 173452.85017160597\n",
      "R squred score of a elastic model fit of polynomial degree 2 with alpha 1.5e-05 is 0.7628360217412538\n",
      "\n"
     ]
    },
    {
     "name": "stderr",
     "output_type": "stream",
     "text": [
      "/root/anaconda3/lib/python3.7/site-packages/sklearn/linear_model/_coordinate_descent.py:532: ConvergenceWarning: Objective did not converge. You might want to increase the number of iterations. Duality gap: 134979486370204.48, tolerance: 70292119468586.164\n",
      "  positive)\n"
     ]
    },
    {
     "name": "stdout",
     "output_type": "stream",
     "text": [
      "RMSE score of a elastic model fit of polynomial degree 2 with alpha 0.00015 is 173431.63807343118\n",
      "R squred score of a elastic model fit of polynomial degree 2 with alpha 0.00015 is 0.7628940252617779\n",
      "\n"
     ]
    },
    {
     "name": "stderr",
     "output_type": "stream",
     "text": [
      "/root/anaconda3/lib/python3.7/site-packages/sklearn/linear_model/_coordinate_descent.py:532: ConvergenceWarning: Objective did not converge. You might want to increase the number of iterations. Duality gap: 135101389945110.77, tolerance: 70292119468586.164\n",
      "  positive)\n"
     ]
    },
    {
     "name": "stdout",
     "output_type": "stream",
     "text": [
      "RMSE score of a elastic model fit of polynomial degree 2 with alpha 0.0015 is 173415.42506131434\n",
      "R squred score of a elastic model fit of polynomial degree 2 with alpha 0.0015 is 0.7629383542250421\n",
      "\n"
     ]
    },
    {
     "name": "stderr",
     "output_type": "stream",
     "text": [
      "/root/anaconda3/lib/python3.7/site-packages/sklearn/linear_model/_coordinate_descent.py:532: ConvergenceWarning: Objective did not converge. You might want to increase the number of iterations. Duality gap: 135553504215275.8, tolerance: 70292119468586.164\n",
      "  positive)\n"
     ]
    },
    {
     "name": "stdout",
     "output_type": "stream",
     "text": [
      "RMSE score of a elastic model fit of polynomial degree 2 with alpha 0.015 is 173411.2662182283\n",
      "R squred score of a elastic model fit of polynomial degree 2 with alpha 0.015 is 0.7629497244980636\n",
      "\n"
     ]
    },
    {
     "name": "stderr",
     "output_type": "stream",
     "text": [
      "/root/anaconda3/lib/python3.7/site-packages/sklearn/linear_model/_coordinate_descent.py:532: ConvergenceWarning: Objective did not converge. You might want to increase the number of iterations. Duality gap: 136400514314901.98, tolerance: 70292119468586.164\n",
      "  positive)\n"
     ]
    },
    {
     "name": "stdout",
     "output_type": "stream",
     "text": [
      "RMSE score of a elastic model fit of polynomial degree 2 with alpha 0.15 is 173553.1605853995\n",
      "R squred score of a elastic model fit of polynomial degree 2 with alpha 0.15 is 0.762561631371349\n",
      "\n"
     ]
    },
    {
     "name": "stderr",
     "output_type": "stream",
     "text": [
      "/root/anaconda3/lib/python3.7/site-packages/sklearn/linear_model/_coordinate_descent.py:532: ConvergenceWarning: Objective did not converge. You might want to increase the number of iterations. Duality gap: 137024018500745.28, tolerance: 70292119468586.164\n",
      "  positive)\n"
     ]
    },
    {
     "name": "stdout",
     "output_type": "stream",
     "text": [
      "RMSE score of a elastic model fit of polynomial degree 2 with alpha 0.8 is 173659.75714112996\n",
      "R squred score of a elastic model fit of polynomial degree 2 with alpha 0.8 is 0.7622698719477917\n",
      "\n"
     ]
    },
    {
     "name": "stderr",
     "output_type": "stream",
     "text": [
      "/root/anaconda3/lib/python3.7/site-packages/sklearn/linear_model/_coordinate_descent.py:532: ConvergenceWarning: Objective did not converge. You might want to increase the number of iterations. Duality gap: 137202513680821.86, tolerance: 70292119468586.164\n",
      "  positive)\n"
     ]
    },
    {
     "name": "stdout",
     "output_type": "stream",
     "text": [
      "RMSE score of a elastic model fit of polynomial degree 2 with alpha 1.5 is 173703.6135072145\n",
      "R squred score of a elastic model fit of polynomial degree 2 with alpha 1.5 is 0.7621497831466185\n",
      "\n"
     ]
    },
    {
     "name": "stderr",
     "output_type": "stream",
     "text": [
      "/root/anaconda3/lib/python3.7/site-packages/sklearn/linear_model/_coordinate_descent.py:532: ConvergenceWarning: Objective did not converge. You might want to increase the number of iterations. Duality gap: 137676605473990.27, tolerance: 70292119468586.164\n",
      "  positive)\n"
     ]
    },
    {
     "name": "stdout",
     "output_type": "stream",
     "text": [
      "RMSE score of a elastic model fit of polynomial degree 2 with alpha 15.0 is 173807.4335157265\n",
      "R squred score of a elastic model fit of polynomial degree 2 with alpha 15.0 is 0.7618653792641934\n",
      "\n"
     ]
    },
    {
     "name": "stderr",
     "output_type": "stream",
     "text": [
      "/root/anaconda3/lib/python3.7/site-packages/sklearn/linear_model/_coordinate_descent.py:532: ConvergenceWarning: Objective did not converge. You might want to increase the number of iterations. Duality gap: 137928299774903.55, tolerance: 70292119468586.164\n",
      "  positive)\n"
     ]
    },
    {
     "name": "stdout",
     "output_type": "stream",
     "text": [
      "RMSE score of a elastic model fit of polynomial degree 2 with alpha 123.0 is 173850.9296371457\n",
      "R squred score of a elastic model fit of polynomial degree 2 with alpha 123.0 is 0.7617461757499528\n",
      "\n",
      "RMSE score of a elastic model fit of polynomial degree 2 with alpha 1000.0 is 173921.53679274788\n",
      "R squred score of a elastic model fit of polynomial degree 2 with alpha 1000.0 is 0.7615526094460557\n",
      "\n"
     ]
    },
    {
     "name": "stderr",
     "output_type": "stream",
     "text": [
      "/root/anaconda3/lib/python3.7/site-packages/sklearn/linear_model/_coordinate_descent.py:532: ConvergenceWarning: Objective did not converge. You might want to increase the number of iterations. Duality gap: 138320778446933.19, tolerance: 70292119468586.164\n",
      "  positive)\n"
     ]
    }
   ],
   "source": [
    "l2_e=[1.5e-5,1.5e-4,1.5e-3,1.5e-2,1.5e-1,0.8,1.5,1.5e1,1.23e2,1e3]\n",
    "rmse_e=[]\n",
    "for alp in l2_e:\n",
    "    tmp3=elasticfit(alp,rtrain,ytrain,rvalid,yvalid)\n",
    "    rmse_e=np.append(rmse_e,tmp3)"
   ]
  },
  {
   "cell_type": "code",
   "execution_count": 37,
   "metadata": {},
   "outputs": [
    {
     "name": "stdout",
     "output_type": "stream",
     "text": [
      "Minimum rmse is 173411.2662182283 from model 3\n"
     ]
    }
   ],
   "source": [
    "model=0\n",
    "min_elastic=1e12\n",
    "for i in range(len(rmse_e)):\n",
    "    if rmse_e[i]<min_elastic:\n",
    "        min_elastic=rmse_e[i]\n",
    "        model=i\n",
    "print(\"Minimum rmse is\",min_elastic,\"from model\",model)"
   ]
  },
  {
   "cell_type": "code",
   "execution_count": 38,
   "metadata": {},
   "outputs": [
    {
     "name": "stdout",
     "output_type": "stream",
     "text": [
      "RMSE score of a elastic model fit of polynomial degree 2 with alpha 0.015 is 182254.75894790716\n",
      "R squred score of a elastic model fit of polynomial degree 2 with alpha 0.015 is 0.7413194699024257\n",
      "\n"
     ]
    },
    {
     "name": "stderr",
     "output_type": "stream",
     "text": [
      "/root/anaconda3/lib/python3.7/site-packages/sklearn/linear_model/_coordinate_descent.py:532: ConvergenceWarning: Objective did not converge. You might want to increase the number of iterations. Duality gap: 135553504215275.8, tolerance: 70292119468586.164\n",
      "  positive)\n"
     ]
    }
   ],
   "source": [
    "elastic_rmse=elasticfit(0.015,rtrain,ytrain,rtest,ytest)"
   ]
  },
  {
   "cell_type": "markdown",
   "metadata": {},
   "source": [
    "# KNN Regression"
   ]
  },
  {
   "cell_type": "code",
   "execution_count": 39,
   "metadata": {},
   "outputs": [
    {
     "data": {
      "text/plain": [
       "KNeighborsRegressor(n_neighbors=2)"
      ]
     },
     "execution_count": 39,
     "metadata": {},
     "output_type": "execute_result"
    }
   ],
   "source": [
    "from sklearn.neighbors import KNeighborsRegressor\n",
    "knr=KNeighborsRegressor(n_neighbors=2)\n",
    "knr.fit(xtrain,ytrain)\n"
   ]
  },
  {
   "cell_type": "code",
   "execution_count": 91,
   "metadata": {},
   "outputs": [
    {
     "name": "stdout",
     "output_type": "stream",
     "text": [
      "RMSE score of a K Neighbors regressor fit having 2 neighbours is 271969.9640394712\n",
      "R squred score of a K Neighbors regressor having 2 neighbours is 0.423966321806034\n"
     ]
    }
   ],
   "source": [
    "yhat_k=knr.predict(xtest)\n",
    "rmse_k=mse(ytest,yhat_k,squared=False)\n",
    "print('RMSE score of a K Neighbors regressor fit having 2 neighbours is', rmse_k)\n",
    "\n",
    "print('R squred score of a K Neighbors regressor having 2 neighbours is', knr.score(xtest,ytest))"
   ]
  },
  {
   "cell_type": "markdown",
   "metadata": {},
   "source": [
    "### Trying for different number of neighbours on validation set"
   ]
  },
  {
   "cell_type": "code",
   "execution_count": 41,
   "metadata": {},
   "outputs": [],
   "source": [
    "def knrfit(nei,xtr,ytr,xval,yval):\n",
    "    knr_model=KNeighborsRegressor(n_neighbors=nei)\n",
    "    knr_model.fit(xtr,ytr)\n",
    "    \n",
    "    yhat_k=knr_model.predict(xval)\n",
    "    rmse_k=mse(yval,yhat_k,squared=False)\n",
    "    print('RMSE score of a K Neighbors regressor fit having',nei,'neighbors is', rmse_k)\n",
    "    print('R squred score of a K Neighbors regressor fit having',nei,'neighbors is', knr_model.score(xval,yval))\n",
    "    print('')\n",
    "    return rmse_k"
   ]
  },
  {
   "cell_type": "code",
   "execution_count": 42,
   "metadata": {},
   "outputs": [
    {
     "name": "stdout",
     "output_type": "stream",
     "text": [
      "RMSE score of a K Neighbors regressor fit having 1 neighbors is 304990.8237404895\n",
      "R squred score of a K Neighbors regressor fit having 1 neighbors is 0.26673764133543176\n",
      "\n",
      "RMSE score of a K Neighbors regressor fit having 2 neighbors is 272352.83648557053\n",
      "R squred score of a K Neighbors regressor fit having 2 neighbors is 0.4152777082869238\n",
      "\n",
      "RMSE score of a K Neighbors regressor fit having 3 neighbors is 263180.08462804504\n",
      "R squred score of a K Neighbors regressor fit having 3 neighbors is 0.4540009461859412\n",
      "\n",
      "RMSE score of a K Neighbors regressor fit having 4 neighbors is 257302.50714015367\n",
      "R squred score of a K Neighbors regressor fit having 4 neighbors is 0.4781161211690498\n",
      "\n",
      "RMSE score of a K Neighbors regressor fit having 5 neighbors is 254925.43052089986\n",
      "R squred score of a K Neighbors regressor fit having 5 neighbors is 0.48771437625821434\n",
      "\n",
      "RMSE score of a K Neighbors regressor fit having 6 neighbors is 254923.0433705063\n",
      "R squred score of a K Neighbors regressor fit having 6 neighbors is 0.48772397041365134\n",
      "\n",
      "RMSE score of a K Neighbors regressor fit having 10 neighbors is 256432.42298937016\n",
      "R squred score of a K Neighbors regressor fit having 10 neighbors is 0.4816397179037737\n",
      "\n",
      "RMSE score of a K Neighbors regressor fit having 20 neighbors is 261378.1705383593\n",
      "R squred score of a K Neighbors regressor fit having 20 neighbors is 0.4614519305642397\n",
      "\n",
      "RMSE score of a K Neighbors regressor fit having 50 neighbors is 269415.9021749726\n",
      "R squred score of a K Neighbors regressor fit having 50 neighbors is 0.42782049450526916\n",
      "\n",
      "RMSE score of a K Neighbors regressor fit having 100 neighbors is 277830.95798916824\n",
      "R squred score of a K Neighbors regressor fit having 100 neighbors is 0.39151886459146445\n",
      "\n",
      "RMSE score of a K Neighbors regressor fit having 200 neighbors is 288429.73845654493\n",
      "R squred score of a K Neighbors regressor fit having 200 neighbors is 0.34420829670545194\n",
      "\n",
      "RMSE score of a K Neighbors regressor fit having 1000 neighbors is 314834.97687527025\n",
      "R squred score of a K Neighbors regressor fit having 1000 neighbors is 0.2186388839587775\n",
      "\n"
     ]
    }
   ],
   "source": [
    "n_k=[1,2,3,4,5,6,10,20,50,100,200,1000]\n",
    "rmse_k=[]\n",
    "for alp in n_k:\n",
    "    tmp4=knrfit(alp,rtrain,ytrain,rvalid,yvalid)\n",
    "    rmse_k=np.append(rmse_k,tmp4)"
   ]
  },
  {
   "cell_type": "code",
   "execution_count": 44,
   "metadata": {},
   "outputs": [
    {
     "name": "stdout",
     "output_type": "stream",
     "text": [
      "Minimum rmse is 254923.0433705063 from model 5\n"
     ]
    }
   ],
   "source": [
    "model=0\n",
    "min_knr=1e12\n",
    "for i in range(len(rmse_e)):\n",
    "    if rmse_k[i]<min_knr:\n",
    "        min_knr=rmse_k[i]\n",
    "        model=i\n",
    "print(\"Minimum rmse is\",min_knr,\"from model\",model)"
   ]
  },
  {
   "cell_type": "code",
   "execution_count": 89,
   "metadata": {},
   "outputs": [
    {
     "name": "stdout",
     "output_type": "stream",
     "text": [
      "RMSE score of a K Neighbors regressor fit having 6 neighbors is 244208.97576934652\n",
      "R squred score of a K Neighbors regressor fit having 6 neighbors is 0.5355604109385981\n",
      "\n"
     ]
    }
   ],
   "source": [
    "knr_rmse=knrfit(6,rtrain,ytrain,rtest,ytest)"
   ]
  },
  {
   "cell_type": "markdown",
   "metadata": {},
   "source": [
    "# Decision Tree Model"
   ]
  },
  {
   "cell_type": "code",
   "execution_count": 90,
   "metadata": {},
   "outputs": [
    {
     "data": {
      "text/plain": [
       "DecisionTreeRegressor()"
      ]
     },
     "execution_count": 90,
     "metadata": {},
     "output_type": "execute_result"
    }
   ],
   "source": [
    "from sklearn.tree import DecisionTreeRegressor\n",
    "dtr= DecisionTreeRegressor()\n",
    "dtr.fit(xtrain,ytrain)"
   ]
  },
  {
   "cell_type": "code",
   "execution_count": 92,
   "metadata": {},
   "outputs": [
    {
     "name": "stdout",
     "output_type": "stream",
     "text": [
      "RMSE score of a Decision Tree regressor fit is 189435.89037660518\n",
      "R squred score of a Decision Tree regressor fit is 0.7205330115893525\n"
     ]
    }
   ],
   "source": [
    "yhat_d=dtr.predict(xtest)\n",
    "rmse_d=mse(ytest,yhat_d,squared=False)\n",
    "print('RMSE score of a Decision Tree regressor fit is', rmse_d)\n",
    "\n",
    "print('R squred score of a Decision Tree regressor fit is', dtr.score(xtest,ytest))"
   ]
  },
  {
   "cell_type": "markdown",
   "metadata": {},
   "source": [
    "# Random Forest Model"
   ]
  },
  {
   "cell_type": "code",
   "execution_count": 93,
   "metadata": {},
   "outputs": [
    {
     "data": {
      "text/plain": [
       "RandomForestRegressor()"
      ]
     },
     "execution_count": 93,
     "metadata": {},
     "output_type": "execute_result"
    }
   ],
   "source": [
    "from sklearn.ensemble import RandomForestRegressor\n",
    "rfr=RandomForestRegressor()\n",
    "rfr.fit(xtrain,ytrain)"
   ]
  },
  {
   "cell_type": "code",
   "execution_count": 94,
   "metadata": {},
   "outputs": [
    {
     "name": "stdout",
     "output_type": "stream",
     "text": [
      "RMSE score of a Random Forest regressor fit is 189435.89037660518\n",
      "R squred score of a Random Forest regressor fit is 0.8777013190101608\n"
     ]
    }
   ],
   "source": [
    "yhat_rf=dtr.predict(xtest)\n",
    "rmse_rf=mse(ytest,yhat_rf,squared=False)\n",
    "print('RMSE score of a Random Forest regressor fit is', rmse_rf)\n",
    "\n",
    "print('R squred score of a Random Forest regressor fit is', rfr.score(xtest,ytest))"
   ]
  },
  {
   "cell_type": "markdown",
   "metadata": {},
   "source": [
    "# Comparision"
   ]
  },
  {
   "cell_type": "code",
   "execution_count": 96,
   "metadata": {},
   "outputs": [],
   "source": [
    "models=['linear','polynomial degree 2','ridge','lasso','elastic','knn','Decision Tree', 'Random Forest']\n",
    "rmses=[rmse_lin,rmse_poly,ridge_rmse,lasso_rmse,elastic_rmse,knr_rmse,rmse_d,rmse_rf]"
   ]
  },
  {
   "cell_type": "code",
   "execution_count": 97,
   "metadata": {},
   "outputs": [
    {
     "data": {
      "image/png": "[encoded data removed]",
      "text/plain": [
       "<Figure size 1440x720 with 1 Axes>"
      ]
     },
     "metadata": {
      "needs_background": "light"
     },
     "output_type": "display_data"
    }
   ],
   "source": [
    "rmse_fig=plt.figure(figsize=(20,10))\n",
    "plt.bar(models,rmses,color='maroon',width=0.5)\n",
    "plt.title('Rmse errors of different algorithms',fontsize=18)\n",
    "plt.xlabel('algorithms',fontsize=18)\n",
    "plt.ylabel('rmse scores',fontsize=18)\n",
    "plt.show()"
   ]
  },
  {
   "cell_type": "code",
   "execution_count": null,
   "metadata": {},
   "outputs": [],
   "source": []
  }
 ],
 "metadata": {
  "kernelspec": {
   "display_name": "Python 3",
   "language": "python",
   "name": "python3"
  },
  "language_info": {
   "codemirror_mode": {
    "name": "ipython",
    "version": 3
   },
   "file_extension": ".py",
   "mimetype": "text/x-python",
   "name": "python",
   "nbconvert_exporter": "python",
   "pygments_lexer": "ipython3",
   "version": "3.7.4"
  }
 },
 "nbformat": 4,
 "nbformat_minor": 2
}
